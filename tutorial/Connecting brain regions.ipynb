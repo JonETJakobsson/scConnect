{
 "cells": [
  {
   "cell_type": "markdown",
   "metadata": {},
   "source": [
    "# How to use scConnect to build and analyze a connectivity graph\n",
    "\n",
    "scConnect integrate into a Scanpy analysis pipeline by utilizing the AnnData objects. This tutorial will not cover usage of scanpy, but tutorials for this can be found [here](https://scanpy.readthedocs.io/en/latest/tutorials.html).\n",
    "\n",
    "We will cover four aspects:\n",
    "* Gene calling\n",
    "* Inference of interactions\n",
    "* Construction of multi-directional graph\n",
    "* Analysis of graph\n",
    "\n",
    "However, before we begin, we will nend a dataset to work on. We will investigate the mouse brain dataset from [Saunder et al.](https://www.sciencedirect.com/science/article/pii/S0092867418309553). The original dataset contains hundreds of thousands of cells, but we will investigate meta cells (summation of all reads of cells from the same cell type) which drastically decrease the size of the dataset. \n",
    "\n",
    "All meta cells has two levels of annotations. the First level relates to the tissue from which the cell originates. These are:\n",
    "* Hippocampus (HC)\n",
    "* Thalamus (TH)\n",
    "* Frontal cortex (FC)\n",
    "* Striatum (STR)\n",
    "* Globus Pallidus and nucleus basalis (GP)\n",
    "* Entopeducular nucleus and subthalamic nucleus (ENT)\n",
    "* Substantia nigra and ventral tegmental area (SN)\n",
    "* Cerebellum (CB)\n",
    "* Posterior cortex (PC)\n",
    "\n",
    "the second level is the cell type annotation, such as *Fast-spiking interneuron, Pvalb+*"
   ]
  },
  {
   "cell_type": "markdown",
   "metadata": {},
   "source": [
    "# loading the dataset\n",
    "Lets begin by importing all the packages we will need. "
   ]
  },
  {
   "cell_type": "code",
   "execution_count": 1,
   "metadata": {
    "scrolled": true
   },
   "outputs": [],
   "source": [
    "import pandas as pd\n",
    "import scanpy as sc\n",
    "import scConnect as cn\n",
    "import matplotlib\n",
    "import matplotlib.pyplot as plt"
   ]
  },
  {
   "cell_type": "markdown",
   "metadata": {},
   "source": [
    "We read in the meta cells using `sc.read_csv()` and add the metadata to adata.obs."
   ]
  },
  {
   "cell_type": "code",
   "execution_count": 2,
   "metadata": {},
   "outputs": [
    {
     "data": {
      "text/html": [
       "<div>\n",
       "<style scoped>\n",
       "    .dataframe tbody tr th:only-of-type {\n",
       "        vertical-align: middle;\n",
       "    }\n",
       "\n",
       "    .dataframe tbody tr th {\n",
       "        vertical-align: top;\n",
       "    }\n",
       "\n",
       "    .dataframe thead th {\n",
       "        text-align: right;\n",
       "    }\n",
       "</style>\n",
       "<table border=\"1\" class=\"dataframe\">\n",
       "  <thead>\n",
       "    <tr style=\"text-align: right;\">\n",
       "      <th></th>\n",
       "      <th>tissue</th>\n",
       "      <th>class</th>\n",
       "      <th>class_marker</th>\n",
       "      <th>type_marker</th>\n",
       "      <th>full_name</th>\n",
       "      <th>common_name</th>\n",
       "      <th>subcluster</th>\n",
       "    </tr>\n",
       "    <tr>\n",
       "      <th>tissue_subcluster</th>\n",
       "      <th></th>\n",
       "      <th></th>\n",
       "      <th></th>\n",
       "      <th></th>\n",
       "      <th></th>\n",
       "      <th></th>\n",
       "      <th></th>\n",
       "    </tr>\n",
       "  </thead>\n",
       "  <tbody>\n",
       "    <tr>\n",
       "      <th>CB_1-1</th>\n",
       "      <td>CB</td>\n",
       "      <td>NEURON</td>\n",
       "      <td>Slc17a7</td>\n",
       "      <td>Gabra6</td>\n",
       "      <td>Neuron.Slc17a7.Gabra6</td>\n",
       "      <td>Granule cells</td>\n",
       "      <td>1-1</td>\n",
       "    </tr>\n",
       "    <tr>\n",
       "      <th>CB_10-1</th>\n",
       "      <td>CB</td>\n",
       "      <td>ENDOTHELIAL_STALK</td>\n",
       "      <td>Flt1</td>\n",
       "      <td>Mgp</td>\n",
       "      <td>Endothelial_Stalk.Flt1.Mgp</td>\n",
       "      <td>Endothelial_Stalk.Flt1.Mgp</td>\n",
       "      <td>10-1</td>\n",
       "    </tr>\n",
       "    <tr>\n",
       "      <th>CB_10-2</th>\n",
       "      <td>CB</td>\n",
       "      <td>ENDOTHELIAL_STALK</td>\n",
       "      <td>Flt1</td>\n",
       "      <td>Car4</td>\n",
       "      <td>Endothelial_Stalk.Flt1.Car4</td>\n",
       "      <td>Endothelial_Stalk.Flt1.Car4</td>\n",
       "      <td>10-2</td>\n",
       "    </tr>\n",
       "    <tr>\n",
       "      <th>CB_10-3</th>\n",
       "      <td>CB</td>\n",
       "      <td>ENDOTHELIAL_STALK</td>\n",
       "      <td>Flt1</td>\n",
       "      <td>Lrg1</td>\n",
       "      <td>Endothelial_Stalk.Flt1.Lrg1</td>\n",
       "      <td>Endothelial_Stalk.Flt1.Lrg1</td>\n",
       "      <td>10-3</td>\n",
       "    </tr>\n",
       "    <tr>\n",
       "      <th>CB_11-1</th>\n",
       "      <td>CB</td>\n",
       "      <td>ENDOTHELIAL_TIP</td>\n",
       "      <td>Dcn</td>\n",
       "      <td>Nnat</td>\n",
       "      <td>Endothelial_Tip.Dcn.Nnat</td>\n",
       "      <td>Endothelial_Tip.Dcn.Nnat</td>\n",
       "      <td>11-1</td>\n",
       "    </tr>\n",
       "    <tr>\n",
       "      <th>CB_11-2</th>\n",
       "      <td>CB</td>\n",
       "      <td>ENDOTHELIAL_TIP</td>\n",
       "      <td>Dcn</td>\n",
       "      <td>Apod</td>\n",
       "      <td>Endothelial_Tip.Dcn.Apod</td>\n",
       "      <td>Endothelial_Tip.Dcn.Apod</td>\n",
       "      <td>11-2</td>\n",
       "    </tr>\n",
       "    <tr>\n",
       "      <th>CB_11-3</th>\n",
       "      <td>CB</td>\n",
       "      <td>MURAL</td>\n",
       "      <td>Acta2Rgs5</td>\n",
       "      <td>Acta2</td>\n",
       "      <td>Mural.Acta2Rgs5.Acta2</td>\n",
       "      <td>Mural.Acta2Rgs5.Acta2</td>\n",
       "      <td>11-3</td>\n",
       "    </tr>\n",
       "    <tr>\n",
       "      <th>CB_11-4</th>\n",
       "      <td>CB</td>\n",
       "      <td>MURAL</td>\n",
       "      <td>Acta2Rgs5</td>\n",
       "      <td>Kcnj8</td>\n",
       "      <td>Mural.Acta2Rgs5.Kcnj8</td>\n",
       "      <td>Mural.Acta2Rgs5.Kcnj8</td>\n",
       "      <td>11-4</td>\n",
       "    </tr>\n",
       "    <tr>\n",
       "      <th>CB_11-5</th>\n",
       "      <td>CB</td>\n",
       "      <td>MURAL</td>\n",
       "      <td>Acta2Rgs5</td>\n",
       "      <td>Rgs5</td>\n",
       "      <td>Mural.Acta2Rgs5.Rgs5</td>\n",
       "      <td>Mural.Acta2Rgs5.Rgs5</td>\n",
       "      <td>11-5</td>\n",
       "    </tr>\n",
       "    <tr>\n",
       "      <th>CB_2-1</th>\n",
       "      <td>CB</td>\n",
       "      <td>NEURON</td>\n",
       "      <td>Gad1Gad2</td>\n",
       "      <td>Pcp2</td>\n",
       "      <td>Neuron.Gad1Gad2.Pcp2</td>\n",
       "      <td>Purkinje Neurons</td>\n",
       "      <td>2-1</td>\n",
       "    </tr>\n",
       "  </tbody>\n",
       "</table>\n",
       "</div>"
      ],
      "text/plain": [
       "                  tissue              class class_marker type_marker  \\\n",
       "tissue_subcluster                                                      \n",
       "CB_1-1                CB             NEURON      Slc17a7      Gabra6   \n",
       "CB_10-1               CB  ENDOTHELIAL_STALK         Flt1         Mgp   \n",
       "CB_10-2               CB  ENDOTHELIAL_STALK         Flt1        Car4   \n",
       "CB_10-3               CB  ENDOTHELIAL_STALK         Flt1        Lrg1   \n",
       "CB_11-1               CB    ENDOTHELIAL_TIP          Dcn        Nnat   \n",
       "CB_11-2               CB    ENDOTHELIAL_TIP          Dcn        Apod   \n",
       "CB_11-3               CB              MURAL    Acta2Rgs5       Acta2   \n",
       "CB_11-4               CB              MURAL    Acta2Rgs5       Kcnj8   \n",
       "CB_11-5               CB              MURAL    Acta2Rgs5        Rgs5   \n",
       "CB_2-1                CB             NEURON     Gad1Gad2        Pcp2   \n",
       "\n",
       "                                     full_name                  common_name  \\\n",
       "tissue_subcluster                                                             \n",
       "CB_1-1                   Neuron.Slc17a7.Gabra6                Granule cells   \n",
       "CB_10-1             Endothelial_Stalk.Flt1.Mgp   Endothelial_Stalk.Flt1.Mgp   \n",
       "CB_10-2            Endothelial_Stalk.Flt1.Car4  Endothelial_Stalk.Flt1.Car4   \n",
       "CB_10-3            Endothelial_Stalk.Flt1.Lrg1  Endothelial_Stalk.Flt1.Lrg1   \n",
       "CB_11-1               Endothelial_Tip.Dcn.Nnat     Endothelial_Tip.Dcn.Nnat   \n",
       "CB_11-2               Endothelial_Tip.Dcn.Apod     Endothelial_Tip.Dcn.Apod   \n",
       "CB_11-3                  Mural.Acta2Rgs5.Acta2        Mural.Acta2Rgs5.Acta2   \n",
       "CB_11-4                  Mural.Acta2Rgs5.Kcnj8        Mural.Acta2Rgs5.Kcnj8   \n",
       "CB_11-5                   Mural.Acta2Rgs5.Rgs5         Mural.Acta2Rgs5.Rgs5   \n",
       "CB_2-1                    Neuron.Gad1Gad2.Pcp2             Purkinje Neurons   \n",
       "\n",
       "                  subcluster  \n",
       "tissue_subcluster             \n",
       "CB_1-1                   1-1  \n",
       "CB_10-1                 10-1  \n",
       "CB_10-2                 10-2  \n",
       "CB_10-3                 10-3  \n",
       "CB_11-1                 11-1  \n",
       "CB_11-2                 11-2  \n",
       "CB_11-3                 11-3  \n",
       "CB_11-4                 11-4  \n",
       "CB_11-5                 11-5  \n",
       "CB_2-1                   2-1  "
      ]
     },
     "execution_count": 2,
     "metadata": {},
     "output_type": "execute_result"
    }
   ],
   "source": [
    "adata = sc.read_csv(\"data/metacells.BrainCellAtlas_Saunders_version_2018.04.01.csv\").T\n",
    "meta = pd.read_excel(\"data/annotation.BrainCellAtlas_Saunders_version_2018.04.01.xlsx\", index_col=\"tissue_subcluster\")\n",
    "adata.obs = meta\n",
    "adata.obs.head(10)"
   ]
  },
  {
   "cell_type": "markdown",
   "metadata": {},
   "source": [
    "Notice that we have cells of many different types. We will focus on neurons in our analysis, and hence we will only keep these meta cells."
   ]
  },
  {
   "cell_type": "code",
   "execution_count": 3,
   "metadata": {},
   "outputs": [
    {
     "data": {
      "text/plain": [
       "View of AnnData object with n_obs × n_vars = 324 × 32307\n",
       "    obs: 'tissue', 'class', 'class_marker', 'type_marker', 'full_name', 'common_name', 'subcluster'"
      ]
     },
     "execution_count": 3,
     "metadata": {},
     "output_type": "execute_result"
    }
   ],
   "source": [
    "adata = adata[adata.obs[\"class\"] == \"NEURON\"]\n",
    "adata"
   ]
  },
  {
   "cell_type": "markdown",
   "metadata": {},
   "source": [
    "In many pipelines, we whould now normalize and logaritmize the read values to better visualize differences in gene expression. we will do the same here. \n",
    "\n",
    "*Note that scConnect will later transform all values back to reads. If we were to perform some more advanced transformations, we can specifically discribe this to correcly transform the read values.*"
   ]
  },
  {
   "cell_type": "code",
   "execution_count": 4,
   "metadata": {},
   "outputs": [
    {
     "name": "stderr",
     "output_type": "stream",
     "text": [
      "c:\\users\\jonja158\\anaconda3\\envs\\connectome\\lib\\site-packages\\scanpy\\preprocessing\\_normalization.py:138: UserWarning: Revieved a view of an AnnData. Making a copy.\n",
      "  view_to_actual(adata)\n"
     ]
    }
   ],
   "source": [
    "sc.pp.normalize_total(adata, exclude_highly_expressed=True)\n",
    "sc.pp.log1p(adata)"
   ]
  },
  {
   "cell_type": "markdown",
   "metadata": {},
   "source": [
    "We now have everything that we need to proceed with scConnect: \n",
    "* AnnData object\n",
    "* Cell type annotations in adata.obs\n",
    "\n",
    "scConnect already come packaged with a database for the mouse genome, but if you want to analyse any other species you can set up a database using `cn.database.setup_database()` and provide the species name: *mmusculus* for Mouse, *hsapiens* for human etc.\n",
    "\n",
    "You can further select which receptor types that you want to include in the database.\n",
    "\n",
    "* enzyme\n",
    "* transporter\n",
    "* gpcr\n",
    "* catalytic_receptor\n",
    "* other_protein\n",
    "* vgic\n",
    "* lgic \n",
    "* other_ic\n",
    "* nhr\n",
    "\n",
    "Here we select receptors that are present at the synapses of neurons.\n",
    "\n",
    "Note: In future verions, receptor type selection will be passed to `cn.connect.receptors()` instead, and all databases will contain the full set of receptors.\n",
    "\n",
    "You can read more about receptor types [here](https://www.guidetopharmacology.org/targets.jsp).\n",
    "\n",
    "Guide to Pharmacology (GTF) update their database regularly, and we include the latest database version available for each scConnect release. If you would like to update scConnect, and still use an older GTP database version, you can set this using `cn.database.version`.\n",
    "\n",
    "**Note:** You will only have to run this once, as the files are changed in the package. If you run another pipeline with other database setting for the same species, you will have to rerun this database setup."
   ]
  },
  {
   "cell_type": "code",
   "execution_count": 5,
   "metadata": {},
   "outputs": [],
   "source": [
    "# set correct database ONLY RUN WHEN DATABASE HAS CHANGED\n",
    "cn.database.version = \"2019-5\"\n",
    "#cn.database.setup_database(\"mmusculus\", receptor_types=[\"lgic\", \"vgic\", \"gpcr\", \"catalytic_receptor\"])"
   ]
  },
  {
   "cell_type": "markdown",
   "metadata": {},
   "source": [
    "# Gene calling\n",
    "The gene/protein correlation is quite weak at a single cell level, however, at a cell type level (grouping cells by cell type) the correlation is much better. During gene celling, we achieve this by grouping all cells (in our case meta cells) by some cell annotation. \n",
    "\n",
    "For our purposes we will group all cells from each brain regoin (*tissue*) and assess the mean gene expression. This will produce a new matrix with *tissues* as columns and genes as rows.\n",
    "\n",
    "At this stage, we will also describe how the counts/reads have been transformer in order to transform them back to counts/reads. We do this by providing `\"log1p\"` to the transformation argument. This argument also accepts a function that would transform the values correcly."
   ]
  },
  {
   "cell_type": "code",
   "execution_count": 6,
   "metadata": {},
   "outputs": [
    {
     "data": {
      "text/html": [
       "<div>\n",
       "<style scoped>\n",
       "    .dataframe tbody tr th:only-of-type {\n",
       "        vertical-align: middle;\n",
       "    }\n",
       "\n",
       "    .dataframe tbody tr th {\n",
       "        vertical-align: top;\n",
       "    }\n",
       "\n",
       "    .dataframe thead th {\n",
       "        text-align: right;\n",
       "    }\n",
       "</style>\n",
       "<table border=\"1\" class=\"dataframe\">\n",
       "  <thead>\n",
       "    <tr style=\"text-align: right;\">\n",
       "      <th>tissue</th>\n",
       "      <th>CB</th>\n",
       "      <th>ENT</th>\n",
       "      <th>FC</th>\n",
       "      <th>GP</th>\n",
       "      <th>HC</th>\n",
       "      <th>PC</th>\n",
       "      <th>SN</th>\n",
       "      <th>STR</th>\n",
       "      <th>TH</th>\n",
       "    </tr>\n",
       "  </thead>\n",
       "  <tbody>\n",
       "    <tr>\n",
       "      <th>0610005C13Rik</th>\n",
       "      <td>1.206128</td>\n",
       "      <td>0.164717</td>\n",
       "      <td>0.088547</td>\n",
       "      <td>0.309107</td>\n",
       "      <td>0.126791</td>\n",
       "      <td>0.130319</td>\n",
       "      <td>0.424046</td>\n",
       "      <td>0.061124</td>\n",
       "      <td>0.143608</td>\n",
       "    </tr>\n",
       "    <tr>\n",
       "      <th>0610007P14Rik</th>\n",
       "      <td>70.244576</td>\n",
       "      <td>32.205215</td>\n",
       "      <td>26.356901</td>\n",
       "      <td>29.308931</td>\n",
       "      <td>33.681461</td>\n",
       "      <td>27.438030</td>\n",
       "      <td>25.901112</td>\n",
       "      <td>35.580597</td>\n",
       "      <td>29.833635</td>\n",
       "    </tr>\n",
       "    <tr>\n",
       "      <th>0610009B22Rik</th>\n",
       "      <td>48.714878</td>\n",
       "      <td>21.362782</td>\n",
       "      <td>22.037834</td>\n",
       "      <td>15.011244</td>\n",
       "      <td>31.001938</td>\n",
       "      <td>19.683691</td>\n",
       "      <td>17.582552</td>\n",
       "      <td>35.335930</td>\n",
       "      <td>19.150042</td>\n",
       "    </tr>\n",
       "    <tr>\n",
       "      <th>0610009E02Rik</th>\n",
       "      <td>0.886484</td>\n",
       "      <td>3.418047</td>\n",
       "      <td>0.892623</td>\n",
       "      <td>1.502334</td>\n",
       "      <td>1.057129</td>\n",
       "      <td>0.983461</td>\n",
       "      <td>1.826454</td>\n",
       "      <td>0.305784</td>\n",
       "      <td>1.150824</td>\n",
       "    </tr>\n",
       "    <tr>\n",
       "      <th>0610009L18Rik</th>\n",
       "      <td>5.448010</td>\n",
       "      <td>7.890305</td>\n",
       "      <td>3.755286</td>\n",
       "      <td>4.002081</td>\n",
       "      <td>6.330668</td>\n",
       "      <td>4.731245</td>\n",
       "      <td>4.280804</td>\n",
       "      <td>6.630234</td>\n",
       "      <td>3.887439</td>\n",
       "    </tr>\n",
       "    <tr>\n",
       "      <th>0610009O20Rik</th>\n",
       "      <td>10.788273</td>\n",
       "      <td>9.835737</td>\n",
       "      <td>9.653899</td>\n",
       "      <td>13.060631</td>\n",
       "      <td>9.339097</td>\n",
       "      <td>10.501668</td>\n",
       "      <td>10.973040</td>\n",
       "      <td>10.845959</td>\n",
       "      <td>9.275872</td>\n",
       "    </tr>\n",
       "    <tr>\n",
       "      <th>0610010F05Rik</th>\n",
       "      <td>33.398140</td>\n",
       "      <td>41.161461</td>\n",
       "      <td>56.321987</td>\n",
       "      <td>45.714489</td>\n",
       "      <td>44.228630</td>\n",
       "      <td>54.559231</td>\n",
       "      <td>51.293636</td>\n",
       "      <td>38.018227</td>\n",
       "      <td>62.149136</td>\n",
       "    </tr>\n",
       "    <tr>\n",
       "      <th>0610010K14Rik</th>\n",
       "      <td>0.775431</td>\n",
       "      <td>0.074247</td>\n",
       "      <td>0.463015</td>\n",
       "      <td>0.183771</td>\n",
       "      <td>0.154365</td>\n",
       "      <td>0.328687</td>\n",
       "      <td>0.124168</td>\n",
       "      <td>0.049013</td>\n",
       "      <td>0.074620</td>\n",
       "    </tr>\n",
       "    <tr>\n",
       "      <th>0610011F06Rik</th>\n",
       "      <td>51.467594</td>\n",
       "      <td>39.626549</td>\n",
       "      <td>27.967623</td>\n",
       "      <td>27.635063</td>\n",
       "      <td>34.014008</td>\n",
       "      <td>31.204346</td>\n",
       "      <td>37.187309</td>\n",
       "      <td>29.208063</td>\n",
       "      <td>41.085770</td>\n",
       "    </tr>\n",
       "    <tr>\n",
       "      <th>0610025J13Rik</th>\n",
       "      <td>0.014621</td>\n",
       "      <td>0.000000</td>\n",
       "      <td>0.010907</td>\n",
       "      <td>0.010785</td>\n",
       "      <td>0.022428</td>\n",
       "      <td>0.013433</td>\n",
       "      <td>0.013677</td>\n",
       "      <td>0.262045</td>\n",
       "      <td>0.000000</td>\n",
       "    </tr>\n",
       "  </tbody>\n",
       "</table>\n",
       "</div>"
      ],
      "text/plain": [
       "tissue                CB        ENT         FC         GP         HC  \\\n",
       "0610005C13Rik   1.206128   0.164717   0.088547   0.309107   0.126791   \n",
       "0610007P14Rik  70.244576  32.205215  26.356901  29.308931  33.681461   \n",
       "0610009B22Rik  48.714878  21.362782  22.037834  15.011244  31.001938   \n",
       "0610009E02Rik   0.886484   3.418047   0.892623   1.502334   1.057129   \n",
       "0610009L18Rik   5.448010   7.890305   3.755286   4.002081   6.330668   \n",
       "0610009O20Rik  10.788273   9.835737   9.653899  13.060631   9.339097   \n",
       "0610010F05Rik  33.398140  41.161461  56.321987  45.714489  44.228630   \n",
       "0610010K14Rik   0.775431   0.074247   0.463015   0.183771   0.154365   \n",
       "0610011F06Rik  51.467594  39.626549  27.967623  27.635063  34.014008   \n",
       "0610025J13Rik   0.014621   0.000000   0.010907   0.010785   0.022428   \n",
       "\n",
       "tissue                PC         SN        STR         TH  \n",
       "0610005C13Rik   0.130319   0.424046   0.061124   0.143608  \n",
       "0610007P14Rik  27.438030  25.901112  35.580597  29.833635  \n",
       "0610009B22Rik  19.683691  17.582552  35.335930  19.150042  \n",
       "0610009E02Rik   0.983461   1.826454   0.305784   1.150824  \n",
       "0610009L18Rik   4.731245   4.280804   6.630234   3.887439  \n",
       "0610009O20Rik  10.501668  10.973040  10.845959   9.275872  \n",
       "0610010F05Rik  54.559231  51.293636  38.018227  62.149136  \n",
       "0610010K14Rik   0.328687   0.124168   0.049013   0.074620  \n",
       "0610011F06Rik  31.204346  37.187309  29.208063  41.085770  \n",
       "0610025J13Rik   0.013433   0.013677   0.262045   0.000000  "
      ]
     },
     "execution_count": 6,
     "metadata": {},
     "output_type": "execute_result"
    }
   ],
   "source": [
    "adata_tissue = cn.genecall.meanExpression(adata, groupby=\"tissue\", normalization=False, use_raw=False, transformation=\"log1p\")\n",
    "adata_tissue.uns[\"gene_call\"].head(10)"
   ]
  },
  {
   "cell_type": "markdown",
   "metadata": {},
   "source": [
    "Next step is to connect gene expression to ligands and reecptors. We do this using `cn.connect.ligands()` and `cn.connect.receptors()`. The results are stored under `adata.uns[\"receptors\"]` and `adata.und[\"ligands\"]` respectivly."
   ]
  },
  {
   "cell_type": "code",
   "execution_count": 7,
   "metadata": {},
   "outputs": [
    {
     "name": "stderr",
     "output_type": "stream",
     "text": [
      "c:\\users\\jonja158\\anaconda3\\envs\\connectome\\lib\\site-packages\\scipy\\stats\\stats.py:402: RuntimeWarning: divide by zero encountered in log\n",
      "  log_a = np.log(np.array(a, dtype=dtype))\n"
     ]
    },
    {
     "data": {
      "text/html": [
       "<div>\n",
       "<style scoped>\n",
       "    .dataframe tbody tr th:only-of-type {\n",
       "        vertical-align: middle;\n",
       "    }\n",
       "\n",
       "    .dataframe tbody tr th {\n",
       "        vertical-align: top;\n",
       "    }\n",
       "\n",
       "    .dataframe thead th {\n",
       "        text-align: right;\n",
       "    }\n",
       "</style>\n",
       "<table border=\"1\" class=\"dataframe\">\n",
       "  <thead>\n",
       "    <tr style=\"text-align: right;\">\n",
       "      <th></th>\n",
       "      <th>CB</th>\n",
       "      <th>ENT</th>\n",
       "      <th>FC</th>\n",
       "      <th>GP</th>\n",
       "      <th>HC</th>\n",
       "      <th>PC</th>\n",
       "      <th>SN</th>\n",
       "      <th>STR</th>\n",
       "      <th>TH</th>\n",
       "    </tr>\n",
       "  </thead>\n",
       "  <tbody>\n",
       "    <tr>\n",
       "      <th>4-1BB ligand</th>\n",
       "      <td>1.426657</td>\n",
       "      <td>0.090270</td>\n",
       "      <td>0.636523</td>\n",
       "      <td>0.357051</td>\n",
       "      <td>0.208603</td>\n",
       "      <td>0.386992</td>\n",
       "      <td>0.321760</td>\n",
       "      <td>0.415015</td>\n",
       "      <td>0.462003</td>\n",
       "    </tr>\n",
       "    <tr>\n",
       "      <th>5-LOX activating protein</th>\n",
       "      <td>2.392291</td>\n",
       "      <td>0.850246</td>\n",
       "      <td>0.569990</td>\n",
       "      <td>0.722240</td>\n",
       "      <td>1.116875</td>\n",
       "      <td>0.927497</td>\n",
       "      <td>0.831814</td>\n",
       "      <td>0.710706</td>\n",
       "      <td>0.865102</td>\n",
       "    </tr>\n",
       "    <tr>\n",
       "      <th>ACTH</th>\n",
       "      <td>2.594204</td>\n",
       "      <td>1.662891</td>\n",
       "      <td>2.294618</td>\n",
       "      <td>2.703824</td>\n",
       "      <td>2.619722</td>\n",
       "      <td>2.596951</td>\n",
       "      <td>3.634485</td>\n",
       "      <td>4.410735</td>\n",
       "      <td>3.365602</td>\n",
       "    </tr>\n",
       "    <tr>\n",
       "      <th>ADP-ribosylation factor 1</th>\n",
       "      <td>193.327957</td>\n",
       "      <td>145.892487</td>\n",
       "      <td>183.194519</td>\n",
       "      <td>135.778839</td>\n",
       "      <td>213.133484</td>\n",
       "      <td>189.279205</td>\n",
       "      <td>133.335785</td>\n",
       "      <td>223.540176</td>\n",
       "      <td>112.088135</td>\n",
       "    </tr>\n",
       "    <tr>\n",
       "      <th>APRIL</th>\n",
       "      <td>0.000000</td>\n",
       "      <td>0.000000</td>\n",
       "      <td>0.000420</td>\n",
       "      <td>0.000000</td>\n",
       "      <td>0.001227</td>\n",
       "      <td>0.016480</td>\n",
       "      <td>0.000000</td>\n",
       "      <td>0.000000</td>\n",
       "      <td>0.000000</td>\n",
       "    </tr>\n",
       "    <tr>\n",
       "      <th>B and T lymphocyte attenuator</th>\n",
       "      <td>0.332327</td>\n",
       "      <td>0.377427</td>\n",
       "      <td>0.290857</td>\n",
       "      <td>0.749851</td>\n",
       "      <td>0.177537</td>\n",
       "      <td>0.140794</td>\n",
       "      <td>0.904310</td>\n",
       "      <td>0.050861</td>\n",
       "      <td>0.557403</td>\n",
       "    </tr>\n",
       "    <tr>\n",
       "      <th>BAFF</th>\n",
       "      <td>0.478253</td>\n",
       "      <td>0.074247</td>\n",
       "      <td>0.070720</td>\n",
       "      <td>0.087122</td>\n",
       "      <td>0.080248</td>\n",
       "      <td>0.156284</td>\n",
       "      <td>0.139312</td>\n",
       "      <td>0.018449</td>\n",
       "      <td>0.071352</td>\n",
       "    </tr>\n",
       "    <tr>\n",
       "      <th>BDNF</th>\n",
       "      <td>48.838825</td>\n",
       "      <td>13.555259</td>\n",
       "      <td>59.020000</td>\n",
       "      <td>8.322413</td>\n",
       "      <td>100.078537</td>\n",
       "      <td>95.689438</td>\n",
       "      <td>76.421249</td>\n",
       "      <td>9.286267</td>\n",
       "      <td>23.805544</td>\n",
       "    </tr>\n",
       "    <tr>\n",
       "      <th>BMP-10</th>\n",
       "      <td>0.000000</td>\n",
       "      <td>0.000000</td>\n",
       "      <td>0.000000</td>\n",
       "      <td>0.000000</td>\n",
       "      <td>0.000000</td>\n",
       "      <td>0.000000</td>\n",
       "      <td>0.000000</td>\n",
       "      <td>0.000000</td>\n",
       "      <td>0.000000</td>\n",
       "    </tr>\n",
       "    <tr>\n",
       "      <th>BMP-2</th>\n",
       "      <td>1.178866</td>\n",
       "      <td>5.076033</td>\n",
       "      <td>4.392419</td>\n",
       "      <td>7.911536</td>\n",
       "      <td>3.399996</td>\n",
       "      <td>4.216757</td>\n",
       "      <td>11.282701</td>\n",
       "      <td>12.021061</td>\n",
       "      <td>5.889201</td>\n",
       "    </tr>\n",
       "  </tbody>\n",
       "</table>\n",
       "</div>"
      ],
      "text/plain": [
       "                                       CB         ENT          FC          GP  \\\n",
       "4-1BB ligand                     1.426657    0.090270    0.636523    0.357051   \n",
       "5-LOX activating protein         2.392291    0.850246    0.569990    0.722240   \n",
       "ACTH                             2.594204    1.662891    2.294618    2.703824   \n",
       "ADP-ribosylation factor 1      193.327957  145.892487  183.194519  135.778839   \n",
       "APRIL                            0.000000    0.000000    0.000420    0.000000   \n",
       "B and T lymphocyte attenuator    0.332327    0.377427    0.290857    0.749851   \n",
       "BAFF                             0.478253    0.074247    0.070720    0.087122   \n",
       "BDNF                            48.838825   13.555259   59.020000    8.322413   \n",
       "BMP-10                           0.000000    0.000000    0.000000    0.000000   \n",
       "BMP-2                            1.178866    5.076033    4.392419    7.911536   \n",
       "\n",
       "                                       HC          PC          SN         STR  \\\n",
       "4-1BB ligand                     0.208603    0.386992    0.321760    0.415015   \n",
       "5-LOX activating protein         1.116875    0.927497    0.831814    0.710706   \n",
       "ACTH                             2.619722    2.596951    3.634485    4.410735   \n",
       "ADP-ribosylation factor 1      213.133484  189.279205  133.335785  223.540176   \n",
       "APRIL                            0.001227    0.016480    0.000000    0.000000   \n",
       "B and T lymphocyte attenuator    0.177537    0.140794    0.904310    0.050861   \n",
       "BAFF                             0.080248    0.156284    0.139312    0.018449   \n",
       "BDNF                           100.078537   95.689438   76.421249    9.286267   \n",
       "BMP-10                           0.000000    0.000000    0.000000    0.000000   \n",
       "BMP-2                            3.399996    4.216757   11.282701   12.021061   \n",
       "\n",
       "                                       TH  \n",
       "4-1BB ligand                     0.462003  \n",
       "5-LOX activating protein         0.865102  \n",
       "ACTH                             3.365602  \n",
       "ADP-ribosylation factor 1      112.088135  \n",
       "APRIL                            0.000000  \n",
       "B and T lymphocyte attenuator    0.557403  \n",
       "BAFF                             0.071352  \n",
       "BDNF                            23.805544  \n",
       "BMP-10                           0.000000  \n",
       "BMP-2                            5.889201  "
      ]
     },
     "execution_count": 7,
     "metadata": {},
     "output_type": "execute_result"
    }
   ],
   "source": [
    "adata_tissue = cn.connect.ligands(adata_tissue)\n",
    "adata_tissue = cn.connect.receptors(adata_tissue)\n",
    "\n",
    "pd.DataFrame(adata_tissue.uns[\"ligands\"]).head(10)"
   ]
  },
  {
   "cell_type": "markdown",
   "metadata": {},
   "source": [
    "# Constructing the graph\n",
    "A graph is built up of two parts; edges and nodes. An edge describe a relationship between two nodes, and the edge can be directional, meaning that the described edge only is true in one direction. Here, we describe interactions (edges) between two tissues (nodes), and we base this by infering interactions between two tissue if they have a matching ligand-receptor pair, that we know can interact with each other. This information is fetched from GTF and was included when we ran the database setup earlier.\n",
    "\n",
    "## Detecting edges\n",
    "We can detect eges between two AnnData object that has ligands and receptor annotation in them. In our case, we whould like to detect edges between the tissues of ust one AnnData object. We can do this by passing the same adata as emmitor and as target to `cn.connect.interactions()`. This produce a list of all interaction between all tissues.\n",
    "\n",
    "## Collecting metadata about the tissues\n",
    "using `cn.connect.nodes()` we can collect all metadata about the different tissues, as we want to include this in our graph later on"
   ]
  },
  {
   "cell_type": "code",
   "execution_count": 8,
   "metadata": {},
   "outputs": [
    {
     "name": "stdout",
     "output_type": "stream",
     "text": [
      "finding connections between 9 emitter clusters and 9 target clusters |██████████████████████████████| 100.0% \n",
      "precessing adata #1\n",
      "processing cluster CB\n",
      "processing cluster ENT\n",
      "processing cluster FC\n",
      "processing cluster GP\n",
      "processing cluster HC\n",
      "processing cluster PC\n",
      "processing cluster SN\n",
      "processing cluster STR\n",
      "processing cluster TH\n"
     ]
    }
   ],
   "source": [
    "edges = cn.connect.interactions(adata_tissue, adata_tissue, self_reference=True)\n",
    "nodes = cn.connect.nodes(adata_tissue)"
   ]
  },
  {
   "cell_type": "markdown",
   "metadata": {},
   "source": [
    "We can construct the graph by passing in the edge list and the node list to `cn.graph.build_graph()`. The result is a `networkX.MultiDiGraph`."
   ]
  },
  {
   "cell_type": "code",
   "execution_count": 9,
   "metadata": {},
   "outputs": [
    {
     "name": "stdout",
     "output_type": "stream",
     "text": [
      "Graph has 31205 interactions between 9 clusters\n",
      "CB has 5281 interactions\n",
      "ENT has 5650 interactions\n",
      "FC has 7954 interactions\n",
      "GP has 7032 interactions\n",
      "HC has 7767 interactions\n",
      "PC has 7619 interactions\n",
      "SN has 6816 interactions\n",
      "STR has 7190 interactions\n",
      "TH has 7101 interactions\n"
     ]
    }
   ],
   "source": [
    "G_tissue = cn.graph.build_graph(edges, nodes)\n"
   ]
  },
  {
   "cell_type": "markdown",
   "metadata": {},
   "source": [
    "# Analysis of the graph\n",
    "The data in the graph is complex, and several types of analysis might be suitable for different purposes. scConnect can run a Dash web application for interactive exploratory analysis of the graph, and it is recommended to initally use this method to get a feeling of the graph.\n",
    "\n",
    "The web app is run by passing the graph object to `cn.app.graph()`. Click on the link to open the application.\n",
    "\n",
    "**note:** If no link is shown, run the cell twise."
   ]
  },
  {
   "cell_type": "code",
   "execution_count": 13,
   "metadata": {
    "scrolled": false
   },
   "outputs": [
    {
     "name": "stderr",
     "output_type": "stream",
     "text": [
      "127.0.0.1 - - [10/Jul/2020 14:42:00] \"\u001b[37mGET /_shutdown_87ea4e79-39a7-407e-a432-190e0557f911 HTTP/1.1\u001b[0m\" 200 -\n",
      " * Running on http://127.0.0.1:8050/ (Press CTRL+C to quit)\n",
      "127.0.0.1 - - [10/Jul/2020 14:42:01] \"\u001b[37mGET /_alive_87ea4e79-39a7-407e-a432-190e0557f911 HTTP/1.1\u001b[0m\" 200 -\n"
     ]
    },
    {
     "name": "stdout",
     "output_type": "stream",
     "text": [
      "Dash app running on http://localhost:8888/proxy/8050/\n"
     ]
    }
   ],
   "source": [
    "from importlib import reload\n",
    "cn.app = reload(cn.app)\n",
    "cn.app.graph(G_tissue, mode=None, debug=False)"
   ]
  },
  {
   "cell_type": "markdown",
   "metadata": {},
   "source": [
    "## web app\n",
    "If you are statically viewing this notebook, here is a short description of the web app's functionallity.\n",
    "\n",
    "\n",
    "### Network graph\n",
    "In the  main network graph, you can select either a node or an edge. Here we have selected the SN population.\n",
    "![network graph](assets/network_graph.png)\n",
    "\n",
    "### Connectivity graph\n",
    "Focusing on the SN population we will get a connectivity graph with all incomming and outgoing interactions the the SN population. Note that you can filter interactions based on scores so to only detect the strongest (score), or most specific (weighted score). Hovering over the interactions provide you with further details.\n",
    "![connectivity graph](assets/connectivity_graph.png)\n",
    "\n",
    "### Ligands and receptors\n",
    "You can also investigate the ligand and receptors expressed by the population. Note that the plot is dynamic, and you can zoom in and pan around. Further more, you can search for specific receptors or ligands.\n",
    "![ligands and receptors](assets/ligands_receptors_plot.png)\n",
    "\n",
    "\n",
    "### Interactions\n",
    "Selecting an edge in the main network graph provides a list of all interactions between the source and target node. This table can be sorted on score and weighted score and provide information about the ligand, receptor and receptor family in the interaction. \n",
    "\n",
    "![interactions](assets/interaction.png)"
   ]
  },
  {
   "cell_type": "markdown",
   "metadata": {},
   "source": [
    "## Splitting the graph on interaction\n",
    "By splitting the graph on interactions, we can assess the contribution of a specific ligand and receptor pair to the graph. This is especially usefull if you are interested in something perticular. We split the graph with `cn.graph.split_graph()` which returns a dictionary with interactions as keys and `networkX.DiGraph` as values.\n"
   ]
  },
  {
   "cell_type": "code",
   "execution_count": 14,
   "metadata": {},
   "outputs": [],
   "source": [
    "Gs_tissue = cn.graph.split_graph(G_tissue)"
   ]
  },
  {
   "cell_type": "markdown",
   "metadata": {},
   "source": [
    "We can visualize a `networkX.DiGraph` using the `cn.graph.plot_adjacency_matrix()`, and by utilizing the built in interaction module of jupyter notebooks, we can interactivly browse the different interacitons."
   ]
  },
  {
   "cell_type": "code",
   "execution_count": 15,
   "metadata": {},
   "outputs": [
    {
     "data": {
      "application/vnd.jupyter.widget-view+json": {
       "model_id": "1d4fb795f3844018a70d143ed495d1a2",
       "version_major": 2,
       "version_minor": 0
      },
      "text/plain": [
       "interactive(children=(Dropdown(description='interaction', options=('(-)-adrenaline --> carbonic anhydrase 1', …"
      ]
     },
     "metadata": {},
     "output_type": "display_data"
    },
    {
     "data": {
      "text/plain": [
       "<function __main__.f(interaction)>"
      ]
     },
     "execution_count": 15,
     "metadata": {},
     "output_type": "execute_result"
    }
   ],
   "source": [
    "import ipywidgets as widgets\n",
    "\n",
    "options = list(Gs_tissue.keys())\n",
    "options.sort()\n",
    "\n",
    "\n",
    "def f(interaction):\n",
    "    return cn.graph.plot_adjacency_matrix(Gs_tissue[interaction], weight=\"log_score\", width=400, height=400, fontsize=15, fontscale=1.0)\n",
    "\n",
    "widgets.interact(f, interaction=widgets.Dropdown(options=options, index=0))\n"
   ]
  },
  {
   "cell_type": "markdown",
   "metadata": {},
   "source": [
    "## Interaction differences\n",
    "Sometimes you would like to compare the interactions that two populations are involved in. This could be between two treatment groups to assess how the connectivity changed. For our purposes, we will compare the interactions made by pariental cortex (PC) and frontal cordex (FC).\n",
    "\n",
    "Using the threshold of 2, we will only plot interactions that is 2 times stronger in any of the populations.\n",
    "\n",
    "Red values are stronger in node a (PC) and blue values are stronger in node b (FC). Color bar is log10(ratio)\n",
    "\n",
    "**Note:** *Receptor familiy is plotted for each row, so this function prints out the receptor families used in order, and a corresponding color bar. This is for publishing reasons, as you might want to build this figure with these components seperatly. This might change in furure releases to produce publishable images direcly.*\n"
   ]
  },
  {
   "cell_type": "code",
   "execution_count": 16,
   "metadata": {
    "scrolled": false
   },
   "outputs": [
    {
     "name": "stdout",
     "output_type": "stream",
     "text": [
      "incomming interactions\n",
      "Outgoing interactions\n",
      "receptor families in order: ['Neuropeptide W/neuropeptide B receptors', 'Melanocortin receptors', 'Cholecystokinin receptors', 'Somatostatin receptors', 'Neurotensin receptors', 'Relaxin family peptide receptors', 'Type I RTKs: ErbB (epidermal growth factor) receptor family', 'Neuropeptide Y receptors', 'IL-6 receptor family', 'Tachykinin receptors']\n"
     ]
    },
    {
     "data": {
      "image/png": "[encoded data removed]",
      "text/plain": [
       "<Figure size 720x504 with 5 Axes>"
      ]
     },
     "metadata": {
      "needs_background": "light"
     },
     "output_type": "display_data"
    },
    {
     "data": {
      "image/png": "[encoded data removed]",
      "text/plain": [
       "<Figure size 720x1080 with 5 Axes>"
      ]
     },
     "metadata": {
      "needs_background": "light"
     },
     "output_type": "display_data"
    },
    {
     "data": {
      "image/png": "[encoded data removed]",
      "text/plain": [
       "<Figure size 720x72 with 1 Axes>"
      ]
     },
     "metadata": {
      "needs_background": "light"
     },
     "output_type": "display_data"
    }
   ],
   "source": [
    "cn.graph.compare_interactions_plot(G_tissue, node_a=\"PC\", node_b=\"FC\", th=2, figsize_i=(10, 7), figsize_o=(10, 15))"
   ]
  },
  {
   "cell_type": "markdown",
   "metadata": {},
   "source": [
    "## Manual access to data\n",
    "Data is accessable directly from the MultiDiGraph and from the AnnData objects them self. Future releases will contain functions to simplify plotting of this information, such as the selected receptor and ligand plots bellow where the bar colors match the web app node colors."
   ]
  },
  {
   "cell_type": "code",
   "execution_count": 17,
   "metadata": {},
   "outputs": [
    {
     "data": {
      "text/plain": [
       "(array([0, 1, 2, 3, 4, 5, 6, 7, 8]),\n",
       " <a list of 9 Text major ticklabel objects>)"
      ]
     },
     "execution_count": 17,
     "metadata": {},
     "output_type": "execute_result"
    },
    {
     "data": {
      "image/png": "[encoded data removed]",
      "text/plain": [
       "<Figure size 432x288 with 1 Axes>"
      ]
     },
     "metadata": {
      "needs_background": "light"
     },
     "output_type": "display_data"
    }
   ],
   "source": [
    "import numpy as np\n",
    "\n",
    "import numpy as np\n",
    "import networkx as nx\n",
    "import seaborn as sns\n",
    "import matplotlib.pyplot as plt\n",
    "df = pd.DataFrame(adata_tissue.uns[\"receptors\"]).loc[[\"D1 receptor\"]]\n",
    "\n",
    "\n",
    "nodes = pd.Categorical(G_tissue.nodes())\n",
    "# make a list of RGBA tuples, one for each node\n",
    "colors = plt.cm.tab20c(nodes.codes/len(nodes.codes), bytes=False)\n",
    "# zip node to color\n",
    "color_map_nodes = dict(zip(nodes, colors))\n",
    "\n",
    "f = sns.barplot(data=np.log10(df+1), palette=color_map_nodes)\n",
    "f.set_xlabel(\"Tissue\")\n",
    "f.set_ylabel(\"Receptor score, log10(score)\")\n",
    "f.set_aspect(8, \"box\")\n",
    "plt.xticks(rotation=90)\n"
   ]
  },
  {
   "cell_type": "code",
   "execution_count": 18,
   "metadata": {},
   "outputs": [
    {
     "data": {
      "text/plain": [
       "(array([0, 1, 2, 3, 4, 5, 6, 7, 8]),\n",
       " <a list of 9 Text major ticklabel objects>)"
      ]
     },
     "execution_count": 18,
     "metadata": {},
     "output_type": "execute_result"
    },
    {
     "data": {
      "image/png": "[encoded data removed]",
      "text/plain": [
       "<Figure size 432x288 with 1 Axes>"
      ]
     },
     "metadata": {
      "needs_background": "light"
     },
     "output_type": "display_data"
    }
   ],
   "source": [
    "import numpy as np\n",
    "\n",
    "import numpy as np\n",
    "import networkx as nx\n",
    "import seaborn as sns\n",
    "import matplotlib.pyplot as plt\n",
    "df = pd.DataFrame(adata_tissue.uns[\"receptors\"]).loc[[\"D2 receptor\"]]\n",
    "\n",
    "\n",
    "nodes = pd.Categorical(G_tissue.nodes())\n",
    "# make a list of RGBA tuples, one for each node\n",
    "colors = plt.cm.tab20c(nodes.codes/len(nodes.codes), bytes=False)\n",
    "# zip node to color\n",
    "color_map_nodes = dict(zip(nodes, colors))\n",
    "\n",
    "f = sns.barplot(data=np.log10(df+1), palette=color_map_nodes)\n",
    "f.set_xlabel(\"Tissue\")\n",
    "f.set_ylabel(\"Receptor score, log10(score)\")\n",
    "f.set_aspect(20, \"box\")\n",
    "plt.xticks(rotation=90)\n"
   ]
  },
  {
   "cell_type": "code",
   "execution_count": 19,
   "metadata": {},
   "outputs": [
    {
     "data": {
      "text/html": [
       "<div>\n",
       "<style scoped>\n",
       "    .dataframe tbody tr th:only-of-type {\n",
       "        vertical-align: middle;\n",
       "    }\n",
       "\n",
       "    .dataframe tbody tr th {\n",
       "        vertical-align: top;\n",
       "    }\n",
       "\n",
       "    .dataframe thead th {\n",
       "        text-align: right;\n",
       "    }\n",
       "</style>\n",
       "<table border=\"1\" class=\"dataframe\">\n",
       "  <thead>\n",
       "    <tr style=\"text-align: right;\">\n",
       "      <th></th>\n",
       "      <th>CB</th>\n",
       "      <th>ENT</th>\n",
       "      <th>FC</th>\n",
       "      <th>GP</th>\n",
       "      <th>HC</th>\n",
       "      <th>PC</th>\n",
       "      <th>SN</th>\n",
       "      <th>STR</th>\n",
       "      <th>TH</th>\n",
       "    </tr>\n",
       "  </thead>\n",
       "  <tbody>\n",
       "    <tr>\n",
       "      <th>dopamine</th>\n",
       "      <td>0.0</td>\n",
       "      <td>0.768366</td>\n",
       "      <td>0.150231</td>\n",
       "      <td>0.727891</td>\n",
       "      <td>0.123196</td>\n",
       "      <td>0.041154</td>\n",
       "      <td>2.724125</td>\n",
       "      <td>0.513421</td>\n",
       "      <td>0.333747</td>\n",
       "    </tr>\n",
       "  </tbody>\n",
       "</table>\n",
       "</div>"
      ],
      "text/plain": [
       "           CB       ENT        FC        GP        HC        PC        SN  \\\n",
       "dopamine  0.0  0.768366  0.150231  0.727891  0.123196  0.041154  2.724125   \n",
       "\n",
       "               STR        TH  \n",
       "dopamine  0.513421  0.333747  "
      ]
     },
     "execution_count": 19,
     "metadata": {},
     "output_type": "execute_result"
    }
   ],
   "source": [
    "df = pd.DataFrame(adata_tissue.uns[\"ligands\"]).loc[[\"dopamine\"]]\n",
    "np.log10(df+1)"
   ]
  },
  {
   "cell_type": "code",
   "execution_count": 20,
   "metadata": {},
   "outputs": [
    {
     "data": {
      "text/plain": [
       "(array([0, 1, 2, 3, 4, 5, 6, 7, 8]),\n",
       " <a list of 9 Text major ticklabel objects>)"
      ]
     },
     "execution_count": 20,
     "metadata": {},
     "output_type": "execute_result"
    },
    {
     "data": {
      "image/png": "[encoded data removed]",
      "text/plain": [
       "<Figure size 432x288 with 1 Axes>"
      ]
     },
     "metadata": {
      "needs_background": "light"
     },
     "output_type": "display_data"
    }
   ],
   "source": [
    "import numpy as np\n",
    "import networkx as nx\n",
    "import seaborn as sns\n",
    "import matplotlib.pyplot as plt\n",
    "df = pd.DataFrame(adata_tissue.uns[\"ligands\"]).loc[[\"dopamine\"]]\n",
    "np.log10(df+1)\n",
    "\n",
    "nodes = pd.Categorical(G_tissue.nodes())\n",
    "# make a list of RGBA tuples, one for each node\n",
    "colors = plt.cm.tab20c(nodes.codes/len(nodes.codes), bytes=False)\n",
    "# zip node to color\n",
    "color_map_nodes = dict(zip(nodes, colors))\n",
    "\n",
    "f = sns.barplot(data=np.log10(df+1), palette=color_map_nodes)\n",
    "f.set_xlabel(\"Tissue\")\n",
    "f.set_ylabel(\"ligand score, log10(score)\")\n",
    "f.set_aspect(5, \"box\")\n",
    "plt.xticks(rotation=90)\n"
   ]
  },
  {
   "cell_type": "markdown",
   "metadata": {},
   "source": [
    "# Further help\n",
    "I hope this tutorial introduced you the the posibilities with scConnect. For further information please visit the projects [github](https://github.com/JonETJakobsson/scConnect) and [documentation](https://scconnect.readthedocs.io/en/latest/)."
   ]
  },
  {
   "cell_type": "code",
   "execution_count": null,
   "metadata": {},
   "outputs": [],
   "source": []
  }
 ],
 "metadata": {
  "kernelspec": {
   "display_name": "Python 3",
   "language": "python",
   "name": "python3"
  },
  "language_info": {
   "codemirror_mode": {
    "name": "ipython",
    "version": 3
   },
   "file_extension": ".py",
   "mimetype": "text/x-python",
   "name": "python",
   "nbconvert_exporter": "python",
   "pygments_lexer": "ipython3",
   "version": "3.8.0"
  }
 },
 "nbformat": 4,
 "nbformat_minor": 4
}
